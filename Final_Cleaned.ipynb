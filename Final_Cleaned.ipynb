{
 "cells": [
  {
   "cell_type": "code",
   "execution_count": 1,
   "metadata": {},
   "outputs": [],
   "source": [
    "import requests\n",
    "from bs4 import BeautifulSoup as bs\n",
    "import json\n",
    "import numpy as np\n",
    "import pandas as pd\n",
    "import re"
   ]
  },
  {
   "cell_type": "code",
   "execution_count": 2,
   "metadata": {},
   "outputs": [],
   "source": [
    "# Loading Pirates Of Caribbean wikipidea page, as a test movie\n",
    "test_movie = requests.get('https://en.wikipedia.org/wiki/Pirates_of_the_Caribbean:_At_World%27s_End')\n",
    "test_movie_content = bs(test_movie.content)"
   ]
  },
  {
   "cell_type": "markdown",
   "metadata": {},
   "source": [
    "### Extracting the rows of the infobox-vevent table\n",
    "This table contains all the information about the movie."
   ]
  },
  {
   "cell_type": "code",
   "execution_count": 3,
   "metadata": {},
   "outputs": [
    {
     "name": "stdout",
     "output_type": "stream",
     "text": [
      "Movie Name:-  Pirates of the Caribbean: At World's End\n"
     ]
    }
   ],
   "source": [
    "test_movie_rows = test_movie_content.select('table.infobox.vevent')[0].select('tr')\n",
    "print(\"Movie Name:- \", test_movie_rows[0].get_text(\" \", strip=True).replace('\\xa0', \" \"))"
   ]
  },
  {
   "cell_type": "markdown",
   "metadata": {},
   "source": [
    "## get_infobox\n",
    "get_infobox is a function that takes in the information rows (content of the infobox-vevent class) of a particular movie and returns it's contents in a dictionary format."
   ]
  },
  {
   "cell_type": "code",
   "execution_count": 4,
   "metadata": {},
   "outputs": [],
   "source": [
    "def get_infobox(info_rows):\n",
    "    '''\n",
    "    Input: \n",
    "    info_rows: rows extracted from the infobox-vevent table.\n",
    "    \n",
    "    Output:\n",
    "    movie_info: Information about the movie, in a dictionary format, extracted from the infobox-vevent table.\n",
    "    '''\n",
    "    def remove_tag(tag, row):           # this function removes the content present inside the specified tag.\n",
    "        for tag in row(tag):\n",
    "            tag.decompose()\n",
    "        \n",
    "        if row.find(attrs={'colspan': 2}):\n",
    "            row.decompose()\n",
    "        else:\n",
    "            pass\n",
    "        \n",
    "        return row\n",
    "        \n",
    "        \n",
    "        \n",
    "    \n",
    "    def get_value(row):\n",
    "        row = remove_tag(['span', 'sup'], row)\n",
    "        \n",
    "        if row.find('br'):\n",
    "            return [text.replace('\\xa0', ' ') for text in row.stripped_strings]\n",
    "        \n",
    "        elif row.find('li'):\n",
    "            return [value.get_text(' ', strip=True).replace(\"\\xa0\", ' ') for value in row.select('li')]\n",
    "        \n",
    "        else:\n",
    "            return row.get_text(' ', strip=True).replace('\\xa0', ' ')\n",
    "        \n",
    "    \n",
    "    movie_info = {}                                                   # Dictionary to store all the information of the movie\n",
    "    for index, row in enumerate(info_rows):\n",
    "        if index == 0:\n",
    "            movie_info['Title'] = row.get_text().replace('\\xa0', ' ') # Name/Title of the movie\n",
    "        elif index == 1:\n",
    "            pass\n",
    "        else:\n",
    "            if row.find('th'):\n",
    "                key = row.find('th').get_text(\" \", strip=True).replace('\\xa0', ' ')\n",
    "                value = get_value(row.find('td'))\n",
    "                movie_info[key] = value\n",
    "            \n",
    "    return movie_info"
   ]
  },
  {
   "cell_type": "code",
   "execution_count": 5,
   "metadata": {},
   "outputs": [
    {
     "data": {
      "text/plain": [
       "{'Title': \"Pirates of the Caribbean:  At World's End\",\n",
       " 'Directed by': 'Gore Verbinski',\n",
       " 'Produced by': 'Jerry Bruckheimer',\n",
       " 'Written by': ['Ted Elliott', 'Terry Rossio'],\n",
       " 'Based on': ['Characters',\n",
       "  'by',\n",
       "  'Ted Elliott',\n",
       "  'Terry Rossio',\n",
       "  'Stuart Beattie',\n",
       "  'Jay Wolpert',\n",
       "  'Pirates of the Caribbean',\n",
       "  'by',\n",
       "  'Walt Disney'],\n",
       " 'Starring': ['Johnny Depp',\n",
       "  'Orlando Bloom',\n",
       "  'Keira Knightley',\n",
       "  'Stellan Skarsgård',\n",
       "  'Bill Nighy',\n",
       "  'Chow Yun-fat',\n",
       "  'Geoffrey Rush',\n",
       "  'Jack Davenport',\n",
       "  'Kevin R. McNally',\n",
       "  'Jonathan Pryce'],\n",
       " 'Music by': 'Hans Zimmer',\n",
       " 'Cinematography': 'Dariusz Wolski',\n",
       " 'Edited by': ['Craig Wood', 'Stephen Rivkin'],\n",
       " 'Production companies': ['Walt Disney Pictures', 'Jerry Bruckheimer Films'],\n",
       " 'Distributed by': 'Buena Vista Pictures',\n",
       " 'Release date': ['May 19, 2007 ( Disneyland Resort )',\n",
       "  'May 25, 2007 (United States)'],\n",
       " 'Running time': '168 minutes',\n",
       " 'Country': 'United States',\n",
       " 'Language': 'English',\n",
       " 'Budget': '$300 million',\n",
       " 'Box office': '$961 million'}"
      ]
     },
     "execution_count": 5,
     "metadata": {},
     "output_type": "execute_result"
    }
   ],
   "source": [
    "# Glance at the information collected from the infobox-vevent table.\n",
    "get_infobox(test_movie_rows)"
   ]
  },
  {
   "cell_type": "code",
   "execution_count": null,
   "metadata": {},
   "outputs": [],
   "source": []
  },
  {
   "cell_type": "markdown",
   "metadata": {},
   "source": [
    "## get_movie_dict\n",
    "This function returns all the movie names (having 'i' and 'a' tag in them) from the main_page_url page."
   ]
  },
  {
   "cell_type": "code",
   "execution_count": 6,
   "metadata": {},
   "outputs": [],
   "source": [
    "def get_movie_dict():\n",
    "    main_page_url = 'https://en.wikipedia.org/wiki/List_of_Walt_Disney_Pictures_films'\n",
    "    main_page = requests.get(main_page_url)\n",
    "    main_page_content = bs(main_page.content)\n",
    "    movie_rows = main_page_content.select('table.wikitable.sortable i a')\n",
    "\n",
    "    movies_dict = {}\n",
    "    base_url = 'https://en.wikipedia.org/'\n",
    "    for movie in movie_rows:\n",
    "        movies_dict[movie.get_text()] = base_url + movie['href']\n",
    "    \n",
    "    return movies_dict\n",
    "\n",
    "movies_dict = get_movie_dict()"
   ]
  },
  {
   "cell_type": "code",
   "execution_count": null,
   "metadata": {},
   "outputs": [],
   "source": []
  },
  {
   "cell_type": "markdown",
   "metadata": {},
   "source": [
    "## get_movies_infoboxes\n",
    "This function takes in movies_dict as an argument, and returns the information of the movie contained in the infobox-vevent."
   ]
  },
  {
   "cell_type": "code",
   "execution_count": 8,
   "metadata": {},
   "outputs": [],
   "source": [
    "def get_movies_infobox(movies_dict):\n",
    "    '''\n",
    "    Input:\n",
    "        movies_dict : Contains name and link of movies in the form of key value pair, where key refers to name of the movie,\n",
    "        and it's corresponding value contains the url of the movie.\n",
    "    \n",
    "    Output:\n",
    "        movie_infoboxes: Contains all the information of a movie present in the infobox-vevent class of the movie's page.\n",
    "    '''\n",
    "    movie_infoboxes = []\n",
    "    for index, movie in enumerate(movies_dict):\n",
    "        try:\n",
    "            if index % 10 == 0:\n",
    "                print(index)\n",
    "            movie_url = movies_dict[movie]\n",
    "            movie_page = requests.get(movie_url)\n",
    "            movie_content = bs(movie_page.content)\n",
    "            movie_inforows = movie_content.select('table.infobox.vevent')[0].select('tr')\n",
    "            movie_infobox = get_infobox(movie_inforows)\n",
    "            movie_infoboxes.append(movie_infobox)\n",
    "   \n",
    "        except Exception as e:\n",
    "            print('Index:- ', index, 'Movie Name:- ', movie)\n",
    "            print(e)\n",
    "        \n",
    "    return movie_infoboxes\n",
    "    "
   ]
  },
  {
   "cell_type": "code",
   "execution_count": 9,
   "metadata": {},
   "outputs": [
    {
     "name": "stdout",
     "output_type": "stream",
     "text": [
      "0\n",
      "10\n",
      "20\n",
      "30\n",
      "40\n",
      "Index:-  43 Movie Name:-  Zorro the Avenger\n",
      "'NoneType' object is not callable\n",
      "Index:-  48 Movie Name:-  The Sign of Zorro\n",
      "'NoneType' object is not callable\n",
      "50\n",
      "60\n",
      "70\n",
      "80\n",
      "90\n",
      "100\n",
      "110\n",
      "120\n",
      "Index:-  124 Movie Name:-  True-Life Adventures\n",
      "list index out of range\n",
      "130\n",
      "140\n",
      "150\n",
      "160\n",
      "170\n",
      "180\n",
      "190\n",
      "200\n",
      "210\n",
      "220\n",
      "230\n",
      "240\n",
      "250\n",
      "260\n",
      "270\n",
      "280\n",
      "290\n",
      "300\n",
      "310\n",
      "320\n",
      "330\n",
      "340\n",
      "350\n",
      "360\n",
      "370\n",
      "380\n",
      "390\n",
      "400\n",
      "410\n",
      "420\n",
      "Index:-  425 Movie Name:-  Luca\n",
      "list index out of range\n",
      "430\n"
     ]
    }
   ],
   "source": [
    "movie_infoboxes = get_movies_infobox(movies_dict)"
   ]
  },
  {
   "cell_type": "code",
   "execution_count": 10,
   "metadata": {},
   "outputs": [
    {
     "data": {
      "text/plain": [
       "429"
      ]
     },
     "execution_count": 10,
     "metadata": {},
     "output_type": "execute_result"
    }
   ],
   "source": [
    "len(movie_infoboxes)"
   ]
  },
  {
   "cell_type": "markdown",
   "metadata": {},
   "source": [
    "## Saving the collected data to a json object."
   ]
  },
  {
   "cell_type": "code",
   "execution_count": 11,
   "metadata": {},
   "outputs": [],
   "source": [
    "import json\n",
    "\n",
    "def save_data(title, data):\n",
    "    with open(title, 'w', encoding='utf-8') as f:\n",
    "        json.dump(data, f, ensure_ascii=False, indent=2)"
   ]
  },
  {
   "cell_type": "code",
   "execution_count": 12,
   "metadata": {},
   "outputs": [],
   "source": [
    "#save_data(\"disney_data_new.json\", movie_infoboxes)"
   ]
  },
  {
   "cell_type": "markdown",
   "metadata": {},
   "source": [
    "## Loading the stored data"
   ]
  },
  {
   "cell_type": "code",
   "execution_count": 13,
   "metadata": {},
   "outputs": [],
   "source": [
    "import json\n",
    "def load_data(title):\n",
    "    with open(title, encoding='utf-8') as f:\n",
    "        return json.load(f)\n",
    "    \n",
    "movies_infoboxes = load_data('disney_data_new.json')"
   ]
  },
  {
   "cell_type": "code",
   "execution_count": null,
   "metadata": {},
   "outputs": [],
   "source": []
  },
  {
   "cell_type": "markdown",
   "metadata": {},
   "source": [
    "# Data Pre-Processing\n",
    "## Subtasks\n",
    "\n",
    "1. ~~Clean up References [1]~~\n",
    "2. ~~Convert running time into an integer~~\n",
    "3. ~~Convert dates into Datetime object~~\n",
    "4. ~~Split up the long strings~~\n",
    "5. ~~Convert Budget and Box Office to numbers.~~"
   ]
  },
  {
   "cell_type": "markdown",
   "metadata": {},
   "source": [
    "### Converting time into integer"
   ]
  },
  {
   "cell_type": "code",
   "execution_count": 14,
   "metadata": {},
   "outputs": [],
   "source": [
    "import re\n",
    "def time_to_int(time):\n",
    "    if time == 'N/A':\n",
    "        return None\n",
    "    \n",
    "    elif type(time) == str:\n",
    "        return int(re.search('[1-9]+', time).group())\n",
    "    \n",
    "    else:\n",
    "        return int(re.search('[1-9]+', time[0]).group())\n",
    "        \n",
    "for movie in movies_infoboxes:\n",
    "    movie['Running time'] = time_to_int(movie.get('Running time', 'N/A'))\n"
   ]
  },
  {
   "cell_type": "markdown",
   "metadata": {},
   "source": [
    "## Converting date to pandas datetime object"
   ]
  },
  {
   "cell_type": "code",
   "execution_count": 15,
   "metadata": {},
   "outputs": [],
   "source": [
    "def budget_office_to_int(budget):\n",
    "    \n",
    "    def get_value(x):\n",
    "        if '$' in x:\n",
    "            if 'million' in x.lower():\n",
    "                return float(re.search('\\$([0-9,.]+)', x).group(1).replace(',', '')) * 1000000\n",
    "            elif 'billion' in x.lower():\n",
    "                return float(re.search('\\$([0-9,.]+)', x).group(1).replace(',', '')) * 1000000000\n",
    "            elif 'thousand' in x.lower():\n",
    "                return float(re.search('\\$([0-9,.]+)', x).group(1).replace(',', '')) * 1000\n",
    "            else:\n",
    "                return float(re.search('\\$([0-9,.]+)', x).group(1).replace(',', ''))\n",
    "        else:\n",
    "            return None\n",
    "                \n",
    "    if type(budget) == str:\n",
    "        value = get_value(budget)\n",
    "        return value\n",
    "    \n",
    "    elif type(budget) == list:\n",
    "        for item in budget:\n",
    "            value = get_value(item)\n",
    "            if value != None:\n",
    "                return value\n",
    "        return None\n",
    "    \n",
    "    else:\n",
    "        return None\n",
    "        \n",
    "for index, movie in enumerate(movies_infoboxes):\n",
    "    try:\n",
    "        if movie['Title'] == 'Ponyo':\n",
    "            movie['Budget'] = 34000000\n",
    "            movie['Box office'] = 203200000\n",
    "        else:\n",
    "            movie['Budget'] = budget_office_to_int(movie.get('Budget', 'N/A'))\n",
    "            movie['Box office'] = budget_office_to_int(movie.get('Box office', 'N/A'))\n",
    "        \n",
    "    except Exception as e:\n",
    "        print('Index:-  ', index, '   Exception:- ', e)"
   ]
  },
  {
   "cell_type": "markdown",
   "metadata": {},
   "source": [
    "## Converting 'Budget' and 'Box office' values to int"
   ]
  },
  {
   "cell_type": "code",
   "execution_count": 16,
   "metadata": {},
   "outputs": [],
   "source": [
    "def date_to_pandas_datetime(date):\n",
    "\n",
    "    if type(date) == str:\n",
    "        return re.search('[0-9a-zA-Z\\s,]+', date).group().strip()\n",
    "    elif type(date) == list:\n",
    "        return re.search('[0-9a-zA-Z\\s,]+', date[0]).group().strip()\n",
    "    else:\n",
    "        return None\n",
    "\n",
    "# for index, movie in enumerate(movies_infoboxes):\n",
    "#     try:\n",
    "#         movie['Release date'] = date_to_pandas_datetime(movie.get('Release date', None))\n",
    "#     except Exception as e:\n",
    "#         print('Index:-  ', index, '  Exception:- ', e)"
   ]
  },
  {
   "cell_type": "code",
   "execution_count": 19,
   "metadata": {},
   "outputs": [
    {
     "data": {
      "text/plain": [
       "[{'Title': 'Academy Award Review of Walt Disney Cartoons',\n",
       "  'Production company': 'Walt Disney Productions',\n",
       "  'Release date': ['May 19, 1937'],\n",
       "  'Running time': 41,\n",
       "  'Country': 'United States',\n",
       "  'Language': 'English',\n",
       "  'Box office': 45.472,\n",
       "  'Budget': None},\n",
       " {'Title': 'Snow White and the Seven Dwarfs',\n",
       "  'Directed by': ['David Hand (supervising)',\n",
       "   'William Cottrell',\n",
       "   'Wilfred Jackson',\n",
       "   'Larry Morey',\n",
       "   'Perce Pearce',\n",
       "   'Ben Sharpsteen'],\n",
       "  'Produced by': 'Walt Disney',\n",
       "  'Written by': ['Ted Sears',\n",
       "   'Richard Creedon',\n",
       "   'Otto Englander',\n",
       "   'Dick Rickard',\n",
       "   'Earl Hurd',\n",
       "   'Merrill De Maris',\n",
       "   'Dorothy Ann Blank',\n",
       "   'Webb Smith'],\n",
       "  'Based on': ['Snow White', 'by The', 'Brothers Grimm'],\n",
       "  'Starring': ['Adriana Caselotti',\n",
       "   'Lucille La Verne',\n",
       "   'Harry Stockwell',\n",
       "   'Roy Atwell',\n",
       "   'Pinto Colvig',\n",
       "   'Otis Harlan',\n",
       "   'Scotty Mattraw',\n",
       "   'Billy Gilbert',\n",
       "   'Eddie Collins',\n",
       "   'Moroni Olsen',\n",
       "   'Stuart Buchanan'],\n",
       "  'Music by': ['Frank Churchill', 'Paul Smith', 'Leigh Harline'],\n",
       "  'Production company': 'Walt Disney Productions',\n",
       "  'Distributed by': 'RKO Radio Pictures',\n",
       "  'Release date': ['December 21, 1937 ( Carthay Circle Theatre , Los Angeles , CA )',\n",
       "   'February 4, 1938 (United States)'],\n",
       "  'Running time': 83,\n",
       "  'Country': 'United States',\n",
       "  'Language': 'English',\n",
       "  'Budget': 1490000.0,\n",
       "  'Box office': 418000000.0}]"
      ]
     },
     "execution_count": 19,
     "metadata": {},
     "output_type": "execute_result"
    }
   ],
   "source": [
    "movies_infoboxes[:2]"
   ]
  },
  {
   "cell_type": "code",
   "execution_count": null,
   "metadata": {},
   "outputs": [],
   "source": []
  },
  {
   "cell_type": "code",
   "execution_count": 18,
   "metadata": {},
   "outputs": [],
   "source": [
    "# Saving our pre-processed data\n",
    "save_data('processed_movie_infoboxes', movies_infoboxes)"
   ]
  },
  {
   "cell_type": "code",
   "execution_count": null,
   "metadata": {},
   "outputs": [],
   "source": []
  }
 ],
 "metadata": {
  "kernelspec": {
   "display_name": "Python [conda env:py3tf2]",
   "language": "python",
   "name": "conda-env-py3tf2-py"
  },
  "language_info": {
   "codemirror_mode": {
    "name": "ipython",
    "version": 3
   },
   "file_extension": ".py",
   "mimetype": "text/x-python",
   "name": "python",
   "nbconvert_exporter": "python",
   "pygments_lexer": "ipython3",
   "version": "3.7.7"
  }
 },
 "nbformat": 4,
 "nbformat_minor": 4
}
