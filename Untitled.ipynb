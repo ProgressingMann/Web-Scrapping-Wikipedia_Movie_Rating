{
 "cells": [
  {
   "cell_type": "code",
   "execution_count": 83,
   "metadata": {},
   "outputs": [],
   "source": [
    "import numpy as np\n",
    "import pandas as pd\n",
    "from bs4 import BeautifulSoup as bs\n",
    "import re\n",
    "import requests"
   ]
  },
  {
   "cell_type": "code",
   "execution_count": 2,
   "metadata": {},
   "outputs": [],
   "source": [
    "url = 'https://en.wikipedia.org/wiki/Toy_Story_3'\n",
    "page = requests.get(url)\n",
    "page = bs(page.content)\n",
    "#print(page.prettify())"
   ]
  },
  {
   "cell_type": "code",
   "execution_count": 3,
   "metadata": {},
   "outputs": [
    {
     "data": {
      "text/plain": [
       "<th scope=\"row\" style=\"white-space:nowrap;padding-right:0.65em;\">Directed by</th>"
      ]
     },
     "execution_count": 3,
     "metadata": {},
     "output_type": "execute_result"
    }
   ],
   "source": [
    "page.select('table.infobox.vevent th')[1]"
   ]
  },
  {
   "cell_type": "code",
   "execution_count": 4,
   "metadata": {},
   "outputs": [],
   "source": [
    "table_content = page.select('table.infobox.vevent')[0]\n",
    "\n",
    "header_content = table_content.select('th')\n",
    "\n",
    "column_names = [header_content[i].text for i in range(1, len(header_content))]"
   ]
  },
  {
   "cell_type": "code",
   "execution_count": 5,
   "metadata": {},
   "outputs": [],
   "source": [
    "#column_names"
   ]
  },
  {
   "cell_type": "code",
   "execution_count": 6,
   "metadata": {},
   "outputs": [],
   "source": [
    "#table_content.select('tr')[2].select('td')"
   ]
  },
  {
   "cell_type": "code",
   "execution_count": 91,
   "metadata": {},
   "outputs": [],
   "source": [
    "#def get_infobox(infobox):\n",
    " #   def get_value(row_data):\n",
    "  #      if bool(row_data.find('li')):\n",
    "#            return [value.get_text(\" \", strip=True).replace('\\xa0', \" \") for value in row_data.select('li')]\n",
    "#        else:\n",
    "#            return row_data.get_text(\" \", strip=True).replace('\\xa0', \" \")\n",
    "#\n",
    "#    movie_info = {}\n",
    "#\n",
    "#    for index, row in enumerate(table_content.select('tr')):\n",
    "#        if index == 0:\n",
    "#            movie_info['Title'] = row.find('th').get_text(\" \", strip=True).replace('\\xa0', \" \")\n",
    "#        elif index == 1:\n",
    "#            pass\n",
    "#        else:\n",
    "#            key = row.find('th').get_text(\" \", strip=True).replace('\\xa0', \" \")\n",
    "#            values = get_value(row.find('td'))\n",
    "#            movie_info[key] = values\n",
    "#\n",
    "#        return movie_info"
   ]
  },
  {
   "cell_type": "code",
   "execution_count": 8,
   "metadata": {},
   "outputs": [],
   "source": [
    "main_page_url = 'https://en.wikipedia.org/wiki/List_of_Walt_Disney_Pictures_films'\n",
    "main_page = requests.get(main_page_url)\n",
    "main_page = bs(main_page.content)\n",
    "#print(main_page.prettify())"
   ]
  },
  {
   "cell_type": "code",
   "execution_count": 9,
   "metadata": {},
   "outputs": [
    {
     "data": {
      "text/plain": [
       "'/wiki/Academy_Award_Review_of_Walt_Disney_Cartoons'"
      ]
     },
     "execution_count": 9,
     "metadata": {},
     "output_type": "execute_result"
    }
   ],
   "source": [
    "main_page.select('.wikitable.sortable i a')[0]['href']"
   ]
  },
  {
   "cell_type": "code",
   "execution_count": 76,
   "metadata": {},
   "outputs": [],
   "source": [
    "movies_dict = {}\n",
    "for movie in main_page.select('.wikitable.sortable i a'):\n",
    "    #print(movie)    \n",
    "    key = movie.get_text(\" \", strip=True)\n",
    "    movies_dict[key] = movie['href']"
   ]
  },
  {
   "cell_type": "code",
   "execution_count": 84,
   "metadata": {},
   "outputs": [],
   "source": [
    "def get_infobox(movie_url):\n",
    "    \n",
    "    movie_infobox = {}\n",
    "    \n",
    "    movie_page = requests.get(movie_url)\n",
    "    movie_content = bs(movie_page.content)\n",
    "\n",
    "    def get_values(row):\n",
    "        if row.select('li'):\n",
    "            return [value.get_text(\" \", strip=True).replace('\\xa0', \" \") for value in row.select('li')]\n",
    "        else:\n",
    "            return row.get_text(\" \", strip=True).replace('\\xa0', \" \")\n",
    "\n",
    "\n",
    "    info_rows = movie_content.select('table.infobox.vevent')[0].select('tr')\n",
    "\n",
    "    for index, row in enumerate(info_rows):\n",
    "        if index == 0:\n",
    "            movie_infobox['Title'] = row.get_text(\" \", strip=True).replace('\\xa0', \" \")\n",
    "        elif index == 1:\n",
    "            pass\n",
    "        else:\n",
    "            if row.find('th'):\n",
    "                key = row.find('th').get_text(\" \", strip=True).replace('\\xa0', \" \")\n",
    "                if row.find('td') != None:\n",
    "                    values = get_values(row.find('td'))\n",
    "                movie_infobox[key] = values\n",
    "                \n",
    "    return movie_infobox"
   ]
  },
  {
   "cell_type": "code",
   "execution_count": null,
   "metadata": {},
   "outputs": [],
   "source": []
  },
  {
   "cell_type": "code",
   "execution_count": 87,
   "metadata": {},
   "outputs": [],
   "source": [
    "def movies_infobox(movies_list):\n",
    "    common_url = 'https://en.wikipedia.org'\n",
    "    \n",
    "    movies_infoboxes = []\n",
    "    for index, movie in enumerate(movies_dict):\n",
    "        #print('Index:- ', index, '  Title:- ', movie)\n",
    "        try:\n",
    "            movie_url = common_url + movies_dict[movie]\n",
    "            movie_infobox = get_infobox(movie_url)\n",
    "            \n",
    "            movies_infoboxes.append(movie_infobox)\n",
    "        except Exception as e:\n",
    "            print(movie)\n",
    "            print(e)\n",
    "        \n",
    "    return movies_infoboxes"
   ]
  },
  {
   "cell_type": "code",
   "execution_count": 88,
   "metadata": {},
   "outputs": [
    {
     "name": "stdout",
     "output_type": "stream",
     "text": [
      "Zorro the Avenger\n",
      "'NoneType' object has no attribute 'get_text'\n",
      "The Sign of Zorro\n",
      "'NoneType' object has no attribute 'get_text'\n",
      "One Little Indian\n",
      "'NoneType' object has no attribute 'get_text'\n",
      "True-Life Adventures\n",
      "list index out of range\n",
      "Spirited Away\n",
      "'NoneType' object has no attribute 'get_text'\n",
      "Howl's Moving Castle\n",
      "'NoneType' object has no attribute 'get_text'\n",
      "The Nightmare Before Christmas 3D\n",
      "'NoneType' object has no attribute 'get_text'\n",
      "Ponyo\n",
      "'NoneType' object has no attribute 'get_text'\n",
      "Tales from Earthsea\n",
      "'NoneType' object has no attribute 'get_text'\n",
      "The Secret World of Arrietty\n",
      "'NoneType' object has no attribute 'get_text'\n",
      "Khoobsurat\n",
      "'NoneType' object has no attribute 'get_text'\n",
      "Tini: The Movie\n",
      "'NoneType' object has no attribute 'get_text'\n",
      "Born in China\n",
      "'NoneType' object has no attribute 'get_text'\n",
      "Luca\n",
      "list index out of range\n"
     ]
    }
   ],
   "source": [
    "movies_infoboxes = movies_infobox(movies_dict)"
   ]
  },
  {
   "cell_type": "code",
   "execution_count": 89,
   "metadata": {},
   "outputs": [
    {
     "data": {
      "text/plain": [
       "419"
      ]
     },
     "execution_count": 89,
     "metadata": {},
     "output_type": "execute_result"
    }
   ],
   "source": [
    "len(movies_infoboxes)"
   ]
  },
  {
   "cell_type": "code",
   "execution_count": null,
   "metadata": {},
   "outputs": [],
   "source": []
  },
  {
   "cell_type": "markdown",
   "metadata": {},
   "source": [
    "### Save Data"
   ]
  },
  {
   "cell_type": "code",
   "execution_count": 90,
   "metadata": {},
   "outputs": [],
   "source": [
    "import json\n",
    "\n",
    "def save_data(title, data):\n",
    "    with open(title, 'w', encoding='utf-8') as f:\n",
    "        json.dump(data, f, ensure_ascii=False, indent=2)"
   ]
  },
  {
   "cell_type": "code",
   "execution_count": 93,
   "metadata": {},
   "outputs": [],
   "source": [
    "save_data(\"disney_data.json\", movies_infoboxes)"
   ]
  },
  {
   "cell_type": "markdown",
   "metadata": {},
   "source": [
    "### Load/Reload Data"
   ]
  },
  {
   "cell_type": "code",
   "execution_count": 2,
   "metadata": {},
   "outputs": [],
   "source": [
    "def load_data(title):\n",
    "    with open(title, encoding='utf-8') as f:\n",
    "        return json.load(f)"
   ]
  },
  {
   "cell_type": "markdown",
   "metadata": {},
   "source": [
    "### Loading the Dataset"
   ]
  },
  {
   "cell_type": "code",
   "execution_count": 4,
   "metadata": {},
   "outputs": [],
   "source": [
    "import numpy as np\n",
    "import pandas as pd\n",
    "import re\n",
    "import json"
   ]
  },
  {
   "cell_type": "code",
   "execution_count": 5,
   "metadata": {},
   "outputs": [],
   "source": [
    "movie_infoboxes = load_data('disney_data.json')"
   ]
  },
  {
   "cell_type": "code",
   "execution_count": null,
   "metadata": {},
   "outputs": [],
   "source": []
  },
  {
   "cell_type": "markdown",
   "metadata": {},
   "source": [
    "## Subtasks\n",
    "\n",
    "1. Clean up References [1]\n",
    "2. Convert running time into an integer\n",
    "3. Convert dates into Datetime object\n",
    "4. Split up the long strings\n",
    "5. Convert Budget and Box Office to numbers."
   ]
  },
  {
   "cell_type": "code",
   "execution_count": 14,
   "metadata": {},
   "outputs": [
    {
     "data": {
      "text/plain": [
       "'8877'"
      ]
     },
     "execution_count": 14,
     "metadata": {},
     "output_type": "execute_result"
    }
   ],
   "source": [
    "import re\n",
    "\n",
    "re.search('[1-9]+', '8877Mnan5').group()"
   ]
  },
  {
   "cell_type": "code",
   "execution_count": null,
   "metadata": {},
   "outputs": [],
   "source": []
  }
 ],
 "metadata": {
  "kernelspec": {
   "display_name": "Python 3",
   "language": "python",
   "name": "python3"
  },
  "language_info": {
   "codemirror_mode": {
    "name": "ipython",
    "version": 3
   },
   "file_extension": ".py",
   "mimetype": "text/x-python",
   "name": "python",
   "nbconvert_exporter": "python",
   "pygments_lexer": "ipython3",
   "version": "3.7.6"
  }
 },
 "nbformat": 4,
 "nbformat_minor": 4
}
